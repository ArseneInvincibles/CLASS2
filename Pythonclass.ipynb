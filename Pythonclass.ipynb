{
  "nbformat": 4,
  "nbformat_minor": 0,
  "metadata": {
    "colab": {
      "provenance": [],
      "toc_visible": true,
      "authorship_tag": "ABX9TyM0IWh7ePdl/ndPBRGNkFRi",
      "include_colab_link": true
    },
    "kernelspec": {
      "name": "python3",
      "display_name": "Python 3"
    },
    "language_info": {
      "name": "python"
    }
  },
  "cells": [
    {
      "cell_type": "markdown",
      "metadata": {
        "id": "view-in-github",
        "colab_type": "text"
      },
      "source": [
        "<a href=\"https://colab.research.google.com/github/ArseneInvincibles/CLASS2/blob/main/Pythonclass.ipynb\" target=\"_parent\"><img src=\"https://colab.research.google.com/assets/colab-badge.svg\" alt=\"Open In Colab\"/></a>"
      ]
    },
    {
      "cell_type": "markdown",
      "source": [
        "# **Introduction To Python**"
      ],
      "metadata": {
        "id": "5Lrolan9iJIX"
      }
    },
    {
      "cell_type": "markdown",
      "source": [
        "# New section"
      ],
      "metadata": {
        "id": "UJOt9Twf9f8c"
      }
    },
    {
      "cell_type": "markdown",
      "source": [
        "# New section"
      ],
      "metadata": {
        "id": "vXHJk16c9hLl"
      }
    },
    {
      "cell_type": "markdown",
      "source": [
        "# New section"
      ],
      "metadata": {
        "id": "uaGb6G5J9hRI"
      }
    },
    {
      "cell_type": "markdown",
      "source": [
        "# New section"
      ],
      "metadata": {
        "id": "YmaYjwfeo12E"
      }
    },
    {
      "cell_type": "markdown",
      "source": [
        "# **Data Types**"
      ],
      "metadata": {
        "id": "YFVSxzVCuCyj"
      }
    },
    {
      "cell_type": "code",
      "source": [
        "type (110)\n"
      ],
      "metadata": {
        "colab": {
          "base_uri": "https://localhost:8080/"
        },
        "id": "tlGncB3nuQmc",
        "outputId": "a41517d6-409e-401d-ed1e-706f7c88ce83"
      },
      "execution_count": null,
      "outputs": [
        {
          "output_type": "execute_result",
          "data": {
            "text/plain": [
              "int"
            ]
          },
          "metadata": {},
          "execution_count": 3
        }
      ]
    },
    {
      "cell_type": "code",
      "source": [
        "type (11.0)\n"
      ],
      "metadata": {
        "colab": {
          "base_uri": "https://localhost:8080/"
        },
        "id": "fykExD5ouV-B",
        "outputId": "f318a678-fd56-450e-de38-0b4e2b13e255"
      },
      "execution_count": null,
      "outputs": [
        {
          "output_type": "execute_result",
          "data": {
            "text/plain": [
              "float"
            ]
          },
          "metadata": {},
          "execution_count": 4
        }
      ]
    },
    {
      "cell_type": "code",
      "source": [
        "type ([1, 2, 3, \"Mary\"])"
      ],
      "metadata": {
        "colab": {
          "base_uri": "https://localhost:8080/"
        },
        "id": "8877jQIPuaDZ",
        "outputId": "63e25b7f-2089-4622-b53a-45783ef255db"
      },
      "execution_count": null,
      "outputs": [
        {
          "output_type": "execute_result",
          "data": {
            "text/plain": [
              "list"
            ]
          },
          "metadata": {},
          "execution_count": 5
        }
      ]
    },
    {
      "cell_type": "code",
      "source": [
        "type((1, 2, 3, \"mustafa\"))"
      ],
      "metadata": {
        "colab": {
          "base_uri": "https://localhost:8080/"
        },
        "id": "KouC0HFSurFX",
        "outputId": "f36c5ef1-db46-40a5-de0a-dd0d81dc4488"
      },
      "execution_count": null,
      "outputs": [
        {
          "output_type": "execute_result",
          "data": {
            "text/plain": [
              "tuple"
            ]
          },
          "metadata": {},
          "execution_count": 6
        }
      ]
    },
    {
      "cell_type": "code",
      "source": [
        "type ({56, 2, 3})"
      ],
      "metadata": {
        "colab": {
          "base_uri": "https://localhost:8080/"
        },
        "id": "hoWABLiwuzsX",
        "outputId": "cfcde5f4-a986-4fe8-b454-d0acb912d721"
      },
      "execution_count": null,
      "outputs": [
        {
          "output_type": "execute_result",
          "data": {
            "text/plain": [
              "set"
            ]
          },
          "metadata": {},
          "execution_count": 7
        }
      ]
    },
    {
      "cell_type": "code",
      "source": [
        "type({\"name\": \"marry\", \"mark\":70})"
      ],
      "metadata": {
        "colab": {
          "base_uri": "https://localhost:8080/"
        },
        "id": "UVIp44XWu8eY",
        "outputId": "68b84f71-de0c-4b5f-9d75-f2e3525f9958"
      },
      "execution_count": null,
      "outputs": [
        {
          "output_type": "execute_result",
          "data": {
            "text/plain": [
              "dict"
            ]
          },
          "metadata": {},
          "execution_count": 8
        }
      ]
    },
    {
      "cell_type": "markdown",
      "source": [
        "# **String**"
      ],
      "metadata": {
        "id": "29EHCDcPvM2c"
      }
    },
    {
      "cell_type": "code",
      "source": [
        "## This is a string\n",
        "## a is a variable\n",
        "a=\"42\"\n",
        "print (a)"
      ],
      "metadata": {
        "colab": {
          "base_uri": "https://localhost:8080/"
        },
        "id": "Btc3G4L9vRDf",
        "outputId": "d1e8e819-b623-4fb0-83ac-c93d3a0355b5"
      },
      "execution_count": null,
      "outputs": [
        {
          "output_type": "stream",
          "name": "stdout",
          "text": [
            "42\n"
          ]
        }
      ]
    },
    {
      "cell_type": "code",
      "source": [
        "first_name=\"mustafa\"\n",
        "second_name=\"khan\"\n",
        "print(first_name, second_name)\n"
      ],
      "metadata": {
        "colab": {
          "base_uri": "https://localhost:8080/"
        },
        "id": "gub2amXvw_jr",
        "outputId": "f9b0462c-06b6-45cd-9575-e1b0b92fc268"
      },
      "execution_count": null,
      "outputs": [
        {
          "output_type": "stream",
          "name": "stdout",
          "text": [
            "mustafa khan\n"
          ]
        }
      ]
    },
    {
      "cell_type": "markdown",
      "source": [
        "S"
      ],
      "metadata": {
        "id": "KFM9xhubI_R_"
      }
    },
    {
      "cell_type": "markdown",
      "source": [
        "### Special Chartacters"
      ],
      "metadata": {
        "id": "Mq6krL-zJAiM"
      }
    },
    {
      "cell_type": "code",
      "source": [
        "#\\, \\n ,\\t , \\r ,\\b\n",
        "print (\"I like \\\"python\\\"\")"
      ],
      "metadata": {
        "colab": {
          "base_uri": "https://localhost:8080/"
        },
        "id": "O1KZRWRqJI7L",
        "outputId": "f50becb8-58b5-4be3-96fc-2175636df4bb"
      },
      "execution_count": null,
      "outputs": [
        {
          "output_type": "stream",
          "name": "stdout",
          "text": [
            "I like \"python\"\n"
          ]
        }
      ]
    },
    {
      "cell_type": "code",
      "source": [
        "print(\"My name is Mustafa \\nI like Python\")"
      ],
      "metadata": {
        "colab": {
          "base_uri": "https://localhost:8080/"
        },
        "id": "ffYlovmkJp5S",
        "outputId": "096a9b1e-deaf-45e5-8623-ac0e9a8227db"
      },
      "execution_count": null,
      "outputs": [
        {
          "output_type": "stream",
          "name": "stdout",
          "text": [
            "My name is Mustafa \n",
            "I like Python\n"
          ]
        }
      ]
    },
    {
      "cell_type": "code",
      "source": [],
      "metadata": {
        "id": "j_k2NxW8J7Cf"
      },
      "execution_count": null,
      "outputs": []
    },
    {
      "cell_type": "code",
      "source": [
        "print(\"My name is Mustafa \\tI like Python\")"
      ],
      "metadata": {
        "colab": {
          "base_uri": "https://localhost:8080/"
        },
        "outputId": "1f197210-07d9-4ddd-d33e-701b80b966ce",
        "id": "4LR8nuk0J7Wb"
      },
      "execution_count": null,
      "outputs": [
        {
          "output_type": "stream",
          "name": "stdout",
          "text": [
            "My name is Mustafa \tI like Python\n"
          ]
        }
      ]
    },
    {
      "cell_type": "code",
      "source": [],
      "metadata": {
        "id": "SAKcPhM5KKYE"
      },
      "execution_count": null,
      "outputs": []
    },
    {
      "cell_type": "code",
      "source": [
        "#\\r is a carriage erase, and replaces what is written before.\n",
        "print(\"My name is Mustafa \\rI like Python\")"
      ],
      "metadata": {
        "colab": {
          "base_uri": "https://localhost:8080/"
        },
        "outputId": "65944736-e66d-497f-a242-7bc3a3e40161",
        "id": "T1FxE-afKLbJ"
      },
      "execution_count": null,
      "outputs": [
        {
          "output_type": "stream",
          "name": "stdout",
          "text": [
            "My name is Mustafa \rI like Python\n"
          ]
        }
      ]
    },
    {
      "cell_type": "markdown",
      "source": [
        "### Index and Slicing"
      ],
      "metadata": {
        "id": "apH8xqoBLCG-"
      }
    },
    {
      "cell_type": "code",
      "source": [
        "b = \"Country\"\n",
        "b[:5]\n",
        "#same as b[0:5]"
      ],
      "metadata": {
        "colab": {
          "base_uri": "https://localhost:8080/",
          "height": 35
        },
        "id": "KyAfC9BuLPjm",
        "outputId": "be394d4c-83e7-4d6a-c6a6-821eb899de42"
      },
      "execution_count": null,
      "outputs": [
        {
          "output_type": "execute_result",
          "data": {
            "text/plain": [
              "'Count'"
            ],
            "application/vnd.google.colaboratory.intrinsic+json": {
              "type": "string"
            }
          },
          "metadata": {},
          "execution_count": 19
        }
      ]
    },
    {
      "cell_type": "code",
      "source": [
        "b[-4]"
      ],
      "metadata": {
        "colab": {
          "base_uri": "https://localhost:8080/",
          "height": 35
        },
        "id": "_EJHDmjbOBic",
        "outputId": "ffd4cb2d-9a28-4272-ffba-c13b14d18ea8"
      },
      "execution_count": null,
      "outputs": [
        {
          "output_type": "execute_result",
          "data": {
            "text/plain": [
              "'n'"
            ],
            "application/vnd.google.colaboratory.intrinsic+json": {
              "type": "string"
            }
          },
          "metadata": {},
          "execution_count": 20
        }
      ]
    },
    {
      "cell_type": "code",
      "source": [
        "b[::2]"
      ],
      "metadata": {
        "colab": {
          "base_uri": "https://localhost:8080/",
          "height": 35
        },
        "id": "H5QX1jxaOcXB",
        "outputId": "e05c5aa2-1b09-4adc-ff91-96c7073fc016"
      },
      "execution_count": null,
      "outputs": [
        {
          "output_type": "execute_result",
          "data": {
            "text/plain": [
              "'Cuty'"
            ],
            "application/vnd.google.colaboratory.intrinsic+json": {
              "type": "string"
            }
          },
          "metadata": {},
          "execution_count": 21
        }
      ]
    },
    {
      "cell_type": "code",
      "source": [
        "b[:3]"
      ],
      "metadata": {
        "colab": {
          "base_uri": "https://localhost:8080/",
          "height": 35
        },
        "id": "nvR1qSoMO2h6",
        "outputId": "26d971a5-7f1b-4a7f-db28-cb7d0f9514b7"
      },
      "execution_count": null,
      "outputs": [
        {
          "output_type": "execute_result",
          "data": {
            "text/plain": [
              "'Cou'"
            ],
            "application/vnd.google.colaboratory.intrinsic+json": {
              "type": "string"
            }
          },
          "metadata": {},
          "execution_count": 22
        }
      ]
    },
    {
      "cell_type": "code",
      "source": [
        "print (b[::1])"
      ],
      "metadata": {
        "colab": {
          "base_uri": "https://localhost:8080/"
        },
        "id": "8soy5IqGPJ_P",
        "outputId": "f8f667bf-51d0-41c0-802d-04348781bec0"
      },
      "execution_count": null,
      "outputs": [
        {
          "output_type": "stream",
          "name": "stdout",
          "text": [
            "Country\n"
          ]
        }
      ]
    },
    {
      "cell_type": "code",
      "source": [
        "print (b[::2])"
      ],
      "metadata": {
        "colab": {
          "base_uri": "https://localhost:8080/"
        },
        "id": "zG7lFkcsPUcI",
        "outputId": "c678886e-76af-40fa-a413-86bce92e40e2"
      },
      "execution_count": null,
      "outputs": [
        {
          "output_type": "stream",
          "name": "stdout",
          "text": [
            "Cuty\n"
          ]
        }
      ]
    },
    {
      "cell_type": "code",
      "source": [
        "print (b[::-1])"
      ],
      "metadata": {
        "colab": {
          "base_uri": "https://localhost:8080/"
        },
        "id": "YyBGDnx6Pntl",
        "outputId": "b96daddd-1b08-498e-9613-7ce2e5450936"
      },
      "execution_count": null,
      "outputs": [
        {
          "output_type": "stream",
          "name": "stdout",
          "text": [
            "yrtnuoC\n"
          ]
        }
      ]
    },
    {
      "cell_type": "markdown",
      "source": [
        "### Concantenation"
      ],
      "metadata": {
        "id": "MWIqgiYHQiE9"
      }
    },
    {
      "cell_type": "code",
      "source": [
        "part1 = \"United\"\n",
        "part2 = \"Kingdom\"\n",
        "part1 + \" \"+part2"
      ],
      "metadata": {
        "colab": {
          "base_uri": "https://localhost:8080/",
          "height": 35
        },
        "id": "3eZPcO3TQpbq",
        "outputId": "73d3bb03-03da-47ea-fe82-fb0dac6abeef"
      },
      "execution_count": null,
      "outputs": [
        {
          "output_type": "execute_result",
          "data": {
            "text/plain": [
              "'United Kingdom'"
            ],
            "application/vnd.google.colaboratory.intrinsic+json": {
              "type": "string"
            }
          },
          "metadata": {},
          "execution_count": 29
        }
      ]
    },
    {
      "cell_type": "markdown",
      "source": [
        "### Format Strings"
      ],
      "metadata": {
        "id": "kUYKliPtRV5I"
      }
    },
    {
      "cell_type": "code",
      "source": [
        "#using a string and intergar when you use formatting\n",
        "c= \"i am {}\"\n",
        "b=50\n",
        "c.format(b)\n"
      ],
      "metadata": {
        "colab": {
          "base_uri": "https://localhost:8080/",
          "height": 35
        },
        "id": "nZPNqeglRasU",
        "outputId": "123a0822-2930-4235-fd82-c887176ca8dd"
      },
      "execution_count": null,
      "outputs": [
        {
          "output_type": "execute_result",
          "data": {
            "text/plain": [
              "'i am 50'"
            ],
            "application/vnd.google.colaboratory.intrinsic+json": {
              "type": "string"
            }
          },
          "metadata": {},
          "execution_count": 30
        }
      ]
    },
    {
      "cell_type": "code",
      "source": [
        "string1=\"I {} be {} next year\"\n",
        "string1.format(\"will\", b)"
      ],
      "metadata": {
        "colab": {
          "base_uri": "https://localhost:8080/",
          "height": 35
        },
        "id": "yyGHeuzTSABy",
        "outputId": "0b2aebbf-8fd9-47df-8083-262d178cedee"
      },
      "execution_count": null,
      "outputs": [
        {
          "output_type": "execute_result",
          "data": {
            "text/plain": [
              "'I will be 50 next year'"
            ],
            "application/vnd.google.colaboratory.intrinsic+json": {
              "type": "string"
            }
          },
          "metadata": {},
          "execution_count": 31
        }
      ]
    },
    {
      "cell_type": "code",
      "source": [
        "weight = 5\n",
        "product=\"apple\"\n",
        "string2=\"i bought {0} kg of {1} that cost me 20 pounds\"\n",
        "string2.format(weight, product)"
      ],
      "metadata": {
        "colab": {
          "base_uri": "https://localhost:8080/",
          "height": 35
        },
        "id": "tH3SxHrqSra7",
        "outputId": "06a949d1-2219-4b2e-ee48-e14f4d144c2a"
      },
      "execution_count": null,
      "outputs": [
        {
          "output_type": "execute_result",
          "data": {
            "text/plain": [
              "'i bought 5 kg of apple that cost me 20 pounds'"
            ],
            "application/vnd.google.colaboratory.intrinsic+json": {
              "type": "string"
            }
          },
          "metadata": {},
          "execution_count": 35
        }
      ]
    },
    {
      "cell_type": "code",
      "source": [],
      "metadata": {
        "id": "HHTc811yVihT"
      },
      "execution_count": null,
      "outputs": []
    },
    {
      "cell_type": "code",
      "source": [],
      "metadata": {
        "id": "q2itjxJHWO1O"
      },
      "execution_count": null,
      "outputs": []
    },
    {
      "cell_type": "code",
      "source": [
        "weight = 5\n",
        "product=\"apple\"\n",
        "string2=\"i bought {a} kg of {b} that cost me 20 pounds\"\n",
        "string2.format(a=weight, b=product)"
      ],
      "metadata": {
        "colab": {
          "base_uri": "https://localhost:8080/",
          "height": 35
        },
        "outputId": "1f1119f7-b20e-4734-8fcb-0ef14c29b707",
        "id": "JqpGRNvhVjAR"
      },
      "execution_count": null,
      "outputs": [
        {
          "output_type": "execute_result",
          "data": {
            "text/plain": [
              "'i bought 5 kg of apple that cost me 20 pounds'"
            ],
            "application/vnd.google.colaboratory.intrinsic+json": {
              "type": "string"
            }
          },
          "metadata": {},
          "execution_count": 36
        }
      ]
    },
    {
      "cell_type": "code",
      "source": [
        "#%d, used for formatting digits\n",
        "#%f,\n",
        "#%s,\n",
        "#%a\n",
        "\n",
        "string3=\"i bought %d kg of %s that cost me %f pounds\"%(5, \"apples\", 15.20)\n",
        "print(string3)"
      ],
      "metadata": {
        "colab": {
          "base_uri": "https://localhost:8080/"
        },
        "id": "-oIRBXuMWQvk",
        "outputId": "f07cf3da-2391-429e-8846-44823968547a"
      },
      "execution_count": null,
      "outputs": [
        {
          "output_type": "stream",
          "name": "stdout",
          "text": [
            "i bought 5 kg of apples that cost me 15.200000 pounds\n"
          ]
        }
      ]
    },
    {
      "cell_type": "markdown",
      "source": [
        "### Operations"
      ],
      "metadata": {
        "id": "anJOaXNLamTi"
      }
    },
    {
      "cell_type": "code",
      "source": [
        "10*2"
      ],
      "metadata": {
        "colab": {
          "base_uri": "https://localhost:8080/"
        },
        "id": "WpusBmGDXqy3",
        "outputId": "86f2aa1c-c895-4c32-80b2-ee7a414d3c27"
      },
      "execution_count": null,
      "outputs": [
        {
          "output_type": "execute_result",
          "data": {
            "text/plain": [
              "20"
            ]
          },
          "metadata": {},
          "execution_count": 42
        }
      ]
    },
    {
      "cell_type": "code",
      "source": [
        "10/2"
      ],
      "metadata": {
        "colab": {
          "base_uri": "https://localhost:8080/"
        },
        "id": "IwQ7guhuayw0",
        "outputId": "b5c0b756-a229-4562-9a3d-1a18c1060708"
      },
      "execution_count": null,
      "outputs": [
        {
          "output_type": "execute_result",
          "data": {
            "text/plain": [
              "5.0"
            ]
          },
          "metadata": {},
          "execution_count": 43
        }
      ]
    },
    {
      "cell_type": "code",
      "source": [
        "#%Modulas - what is remaining\n",
        "\n",
        "8%3\n"
      ],
      "metadata": {
        "colab": {
          "base_uri": "https://localhost:8080/"
        },
        "id": "LD4Rf5YWa2zK",
        "outputId": "d699eb22-7bc9-4c29-808c-83d5e28fe6b5"
      },
      "execution_count": null,
      "outputs": [
        {
          "output_type": "execute_result",
          "data": {
            "text/plain": [
              "2"
            ]
          },
          "metadata": {},
          "execution_count": 46
        }
      ]
    },
    {
      "cell_type": "code",
      "source": [
        "#exponent is the power off, and uses **\n",
        "\n",
        "5**3 #5*5*5"
      ],
      "metadata": {
        "colab": {
          "base_uri": "https://localhost:8080/"
        },
        "id": "UkIWZrBDbE0d",
        "outputId": "5a7f5ca8-6c63-48b9-d302-0f2b33886c0b"
      },
      "execution_count": null,
      "outputs": [
        {
          "output_type": "execute_result",
          "data": {
            "text/plain": [
              "125"
            ]
          },
          "metadata": {},
          "execution_count": 47
        }
      ]
    },
    {
      "cell_type": "code",
      "source": [
        "#PEMDAS is the order of the calculation\n",
        "#parentus, expoenent, multiplication, division, addition, subtraction\n",
        "(5+3*6.6/12)**2\n"
      ],
      "metadata": {
        "colab": {
          "base_uri": "https://localhost:8080/"
        },
        "id": "6nB5wylIbVkb",
        "outputId": "5725474b-d609-429a-82fe-d289b247e74f"
      },
      "execution_count": null,
      "outputs": [
        {
          "output_type": "execute_result",
          "data": {
            "text/plain": [
              "44.22249999999999"
            ]
          },
          "metadata": {},
          "execution_count": 49
        }
      ]
    },
    {
      "cell_type": "markdown",
      "source": [
        "### Operators"
      ],
      "metadata": {
        "id": "S_ialVlMd7lT"
      }
    },
    {
      "cell_type": "markdown",
      "source": [
        "# New section"
      ],
      "metadata": {
        "id": "OMxTjbESo4B_"
      }
    },
    {
      "cell_type": "code",
      "source": [
        "5==7"
      ],
      "metadata": {
        "colab": {
          "base_uri": "https://localhost:8080/"
        },
        "id": "BNp_-llYd_6B",
        "outputId": "c3a2116f-7065-49b0-d8d0-e241cb3c8875"
      },
      "execution_count": null,
      "outputs": [
        {
          "output_type": "execute_result",
          "data": {
            "text/plain": [
              "False"
            ]
          },
          "metadata": {},
          "execution_count": 50
        }
      ]
    },
    {
      "cell_type": "code",
      "source": [
        "5<7"
      ],
      "metadata": {
        "colab": {
          "base_uri": "https://localhost:8080/"
        },
        "id": "2UkoLecFeCVq",
        "outputId": "080b20e3-a82d-4671-a340-64f45b9b1bfa"
      },
      "execution_count": null,
      "outputs": [
        {
          "output_type": "execute_result",
          "data": {
            "text/plain": [
              "True"
            ]
          },
          "metadata": {},
          "execution_count": 51
        }
      ]
    },
    {
      "cell_type": "code",
      "source": [
        "5!=7"
      ],
      "metadata": {
        "colab": {
          "base_uri": "https://localhost:8080/"
        },
        "id": "sCEfxTJgeFwE",
        "outputId": "8bd65619-34db-485a-c3a7-ef7fa982fc2f"
      },
      "execution_count": null,
      "outputs": [
        {
          "output_type": "execute_result",
          "data": {
            "text/plain": [
              "True"
            ]
          },
          "metadata": {},
          "execution_count": 52
        }
      ]
    },
    {
      "cell_type": "markdown",
      "source": [
        "### List Comprehension"
      ],
      "metadata": {
        "id": "NepTQ41io6to"
      }
    },
    {
      "cell_type": "code",
      "source": [
        "word = \"Python\"\n",
        "#list(word.upper())\n",
        "newlst = [letter.upper() for letter in word]\n",
        "print(newlst)"
      ],
      "metadata": {
        "colab": {
          "base_uri": "https://localhost:8080/"
        },
        "id": "_6zYBRMbpDnz",
        "outputId": "c887288f-c30a-4ad3-99d7-e36232427d25"
      },
      "execution_count": null,
      "outputs": [
        {
          "output_type": "stream",
          "name": "stdout",
          "text": [
            "['P', 'Y', 'T', 'H', 'O', 'N']\n"
          ]
        }
      ]
    },
    {
      "cell_type": "code",
      "source": [
        "word = \"london\"\n",
        "lst = list (word.upper())\n",
        "print(lst)\n"
      ],
      "metadata": {
        "colab": {
          "base_uri": "https://localhost:8080/"
        },
        "id": "6sulHKD-qMwi",
        "outputId": "98a9b64e-4d6e-41f6-b57b-afee52ee80e9"
      },
      "execution_count": null,
      "outputs": [
        {
          "output_type": "stream",
          "name": "stdout",
          "text": [
            "['L', 'O', 'N', 'D', 'O', 'N']\n"
          ]
        }
      ]
    },
    {
      "cell_type": "markdown",
      "source": [
        "# New section"
      ],
      "metadata": {
        "id": "oOt5yZQD88KD"
      }
    },
    {
      "cell_type": "markdown",
      "source": [
        "### Nested Lists"
      ],
      "metadata": {
        "id": "42YWKKoGq1nh"
      }
    },
    {
      "cell_type": "code",
      "source": [
        "matrix = [[0, 1, 2],\n",
        "          [3, 4, 5],\n",
        "          [6, 7, 8],\n",
        "          [9, 10, 11]\n",
        "\n",
        "]\n",
        "\n",
        "matrix[0] [-3]"
      ],
      "metadata": {
        "colab": {
          "base_uri": "https://localhost:8080/"
        },
        "id": "Use2PDoPsBLN",
        "outputId": "e3df9861-7674-4530-81ed-f98bf662f4af"
      },
      "execution_count": null,
      "outputs": [
        {
          "output_type": "execute_result",
          "data": {
            "text/plain": [
              "0"
            ]
          },
          "metadata": {},
          "execution_count": 10
        }
      ]
    },
    {
      "cell_type": "code",
      "source": [],
      "metadata": {
        "id": "yYD4-y3stmcj"
      },
      "execution_count": null,
      "outputs": []
    },
    {
      "cell_type": "code",
      "source": [
        "mylist = [[1, 2, 3,], 4, 5, 6, [7, 8, 9]]\n",
        "newlst2 = []\n",
        "for x in range (len(mylist)):\n",
        "  for y in range (len(mylist[x])):\n",
        "    newlst2.append(mylist [x], [y])\n",
        "\n",
        "newlst2\n"
      ],
      "metadata": {
        "colab": {
          "base_uri": "https://localhost:8080/",
          "height": 235
        },
        "outputId": "127bd962-f32a-4ebe-9d44-1796c36ce1d1",
        "id": "lGSPhiUmtrN8"
      },
      "execution_count": null,
      "outputs": [
        {
          "output_type": "error",
          "ename": "TypeError",
          "evalue": "ignored",
          "traceback": [
            "\u001b[0;31m---------------------------------------------------------------------------\u001b[0m",
            "\u001b[0;31mTypeError\u001b[0m                                 Traceback (most recent call last)",
            "\u001b[0;32m<ipython-input-14-3cfb6a892bf0>\u001b[0m in \u001b[0;36m<cell line: 3>\u001b[0;34m()\u001b[0m\n\u001b[1;32m      3\u001b[0m \u001b[0;32mfor\u001b[0m \u001b[0mx\u001b[0m \u001b[0;32min\u001b[0m \u001b[0mrange\u001b[0m \u001b[0;34m(\u001b[0m\u001b[0mlen\u001b[0m\u001b[0;34m(\u001b[0m\u001b[0mmylist\u001b[0m\u001b[0;34m)\u001b[0m\u001b[0;34m)\u001b[0m\u001b[0;34m:\u001b[0m\u001b[0;34m\u001b[0m\u001b[0;34m\u001b[0m\u001b[0m\n\u001b[1;32m      4\u001b[0m   \u001b[0;32mfor\u001b[0m \u001b[0my\u001b[0m \u001b[0;32min\u001b[0m \u001b[0mrange\u001b[0m \u001b[0;34m(\u001b[0m\u001b[0mlen\u001b[0m\u001b[0;34m(\u001b[0m\u001b[0mmylist\u001b[0m\u001b[0;34m[\u001b[0m\u001b[0mx\u001b[0m\u001b[0;34m]\u001b[0m\u001b[0;34m)\u001b[0m\u001b[0;34m)\u001b[0m\u001b[0;34m:\u001b[0m\u001b[0;34m\u001b[0m\u001b[0;34m\u001b[0m\u001b[0m\n\u001b[0;32m----> 5\u001b[0;31m     \u001b[0mnewlst2\u001b[0m\u001b[0;34m.\u001b[0m\u001b[0mappend\u001b[0m\u001b[0;34m(\u001b[0m\u001b[0mmylist\u001b[0m \u001b[0;34m[\u001b[0m\u001b[0mx\u001b[0m\u001b[0;34m]\u001b[0m\u001b[0;34m,\u001b[0m \u001b[0;34m[\u001b[0m\u001b[0my\u001b[0m\u001b[0;34m]\u001b[0m\u001b[0;34m)\u001b[0m\u001b[0;34m\u001b[0m\u001b[0;34m\u001b[0m\u001b[0m\n\u001b[0m\u001b[1;32m      6\u001b[0m \u001b[0;34m\u001b[0m\u001b[0m\n\u001b[1;32m      7\u001b[0m \u001b[0mnewlst2\u001b[0m\u001b[0;34m\u001b[0m\u001b[0;34m\u001b[0m\u001b[0m\n",
            "\u001b[0;31mTypeError\u001b[0m: list.append() takes exactly one argument (2 given)"
          ]
        }
      ]
    },
    {
      "cell_type": "markdown",
      "source": [
        "### Dictionaries"
      ],
      "metadata": {
        "id": "K_r1Siyw897p"
      }
    },
    {
      "cell_type": "markdown",
      "source": [
        "-Dictionaries are you used to change data in key:value pairs\n",
        "-items are changeable and do not allow duplicates.\n",
        "-written with CURLY BRACKETS {}"
      ],
      "metadata": {
        "id": "-Zja5Ie89Tj2"
      }
    },
    {
      "cell_type": "code",
      "source": [
        "mydict = {\n",
        "    \"employment\" : \"Zara\",\n",
        "    \"department\" : [\"IT\", \"sales\"],\n",
        "    \"Last salary\": 50000\n",
        "\n",
        "}\n",
        "\n",
        "print(mydict)"
      ],
      "metadata": {
        "colab": {
          "base_uri": "https://localhost:8080/"
        },
        "id": "ma0i3SHZ9Ajq",
        "outputId": "89850e2d-6290-4ca1-e621-1a30a63b4b57"
      },
      "execution_count": null,
      "outputs": [
        {
          "output_type": "stream",
          "name": "stdout",
          "text": [
            "{'employment': 'Zara', 'department': ['IT', 'sales'], 'Last salary': 50000}\n"
          ]
        }
      ]
    },
    {
      "cell_type": "code",
      "source": [
        "# Nested dictionaries"
      ],
      "metadata": {
        "id": "LTxjovM3_WNO"
      },
      "execution_count": null,
      "outputs": []
    },
    {
      "cell_type": "code",
      "source": [],
      "metadata": {
        "id": "EGf8-uOLAMZ5"
      },
      "execution_count": null,
      "outputs": []
    },
    {
      "cell_type": "code",
      "source": [
        "mydict = {\n",
        "    \"employment\" : \"Zara\",\n",
        "    \"department\" : [\"IT\", \"sales\"],\n",
        "    \"Last salary\": 50000\n",
        "\n",
        "}\n",
        "keys = mydict.keys()\n",
        "values = mydict.values()\n",
        "items = mydict.items()\n",
        "print(keys)\n",
        "print(values)\n",
        "print(items)"
      ],
      "metadata": {
        "colab": {
          "base_uri": "https://localhost:8080/"
        },
        "outputId": "dac7e310-0fe9-4eb2-e93e-135d0a9112c1",
        "id": "qt6BA5vUAM-N"
      },
      "execution_count": null,
      "outputs": [
        {
          "output_type": "stream",
          "name": "stdout",
          "text": [
            "dict_keys(['employment', 'department', 'Last salary'])\n",
            "dict_values(['Zara', ['IT', 'sales'], 50000])\n",
            "dict_items([('employment', 'Zara'), ('department', ['IT', 'sales']), ('Last salary', 50000)])\n"
          ]
        }
      ]
    },
    {
      "cell_type": "code",
      "source": [],
      "metadata": {
        "id": "Huh5dPASDr3x"
      },
      "execution_count": null,
      "outputs": []
    },
    {
      "cell_type": "code",
      "source": [
        "mydict = {\n",
        "    \"employment\" : \"Zara\",\n",
        "    \"department\" : [\"IT\", \"sales\"],\n",
        "    \"Last salary\": 50000\n",
        "\n",
        "}\n",
        "for keys, values in mydict.items(): #Tuples\n",
        "  print(keys, values)\n",
        "delete = \"employment\"\n",
        "mydict.pop(delete)\n",
        "print(\"Updated Dict is: \")\n",
        "for keys, values in mydict.items():  #Tuples\n",
        "  print(keys, values)\n"
      ],
      "metadata": {
        "colab": {
          "base_uri": "https://localhost:8080/"
        },
        "outputId": "8badde44-0c4b-4bf9-b93f-d95d2aeca203",
        "id": "zVwxNZmODte5"
      },
      "execution_count": null,
      "outputs": [
        {
          "output_type": "stream",
          "name": "stdout",
          "text": [
            "employment Zara\n",
            "department ['IT', 'sales']\n",
            "Last salary 50000\n",
            "Updated Dict is: \n",
            "department ['IT', 'sales']\n",
            "Last salary 50000\n"
          ]
        }
      ]
    },
    {
      "cell_type": "markdown",
      "source": [
        "### Tuples"
      ],
      "metadata": {
        "id": "yzuR97anFT99"
      }
    },
    {
      "cell_type": "markdown",
      "source": [
        "A Tuple is a collection which is ordered, UNCHGANABLE and allows duplicates.\n",
        "-Tuples use ("
      ],
      "metadata": {
        "id": "840h6QYwFWyJ"
      }
    },
    {
      "cell_type": "code",
      "source": [
        "mytuple = (\"Audi\", \"Ford\", \"Tesla\", \"Ford\")\n",
        "mylist = list(mytuple) #Using list constructor, convert tuples to list\n",
        "mylist [1] = \"Toyota\" #make change\n",
        "mytuple = tuple(mylist) #change from list, back to tuiple\n",
        "print(mytuple)"
      ],
      "metadata": {
        "colab": {
          "base_uri": "https://localhost:8080/"
        },
        "id": "dtj2DvNhGAnb",
        "outputId": "e93e3387-c207-485d-9e8a-bc8039ea76f0"
      },
      "execution_count": null,
      "outputs": [
        {
          "output_type": "stream",
          "name": "stdout",
          "text": [
            "('Audi', 'Toyota', 'Tesla', 'Ford')\n"
          ]
        }
      ]
    },
    {
      "cell_type": "markdown",
      "source": [
        "### SETs"
      ],
      "metadata": {
        "id": "BddPHrNaJTvU"
      }
    },
    {
      "cell_type": "markdown",
      "source": [
        "A set is a collection which is unordered, unchangeable, unindexed and does not allow duplicates.\n",
        "written with curly brackets {}\n",
        "Allow a diff mixture of data types\n",
        "len() and type()"
      ],
      "metadata": {
        "id": "_5PrFUUUJVz5"
      }
    }
  ]
}